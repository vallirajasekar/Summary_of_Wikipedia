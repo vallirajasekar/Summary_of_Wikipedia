{
  "nbformat": 4,
  "nbformat_minor": 0,
  "metadata": {
    "colab": {
      "provenance": [],
      "authorship_tag": "ABX9TyMRA+WA47q5epTYnq8QpAzw",
      "include_colab_link": true
    },
    "kernelspec": {
      "name": "python3",
      "display_name": "Python 3"
    },
    "language_info": {
      "name": "python"
    }
  },
  "cells": [
    {
      "cell_type": "markdown",
      "metadata": {
        "id": "view-in-github",
        "colab_type": "text"
      },
      "source": [
        "<a href=\"https://colab.research.google.com/github/vallirajasekar/Summary_of_Wikipedia/blob/main/Summary_of_Wikipedia.ipynb\" target=\"_parent\"><img src=\"https://colab.research.google.com/assets/colab-badge.svg\" alt=\"Open In Colab\"/></a>"
      ]
    },
    {
      "cell_type": "code",
      "execution_count": 3,
      "metadata": {
        "id": "rpGFAfx9egZk"
      },
      "outputs": [],
      "source": [
        "from sumy.parsers.html import HtmlParser\n",
        "from sumy.nlp.tokenizers import Tokenizer\n",
        "from sumy.summarizers.lex_rank import LexRankSummarizer\n",
        "\n"
      ]
    },
    {
      "cell_type": "code",
      "source": [
        "pip install sumy\n"
      ],
      "metadata": {
        "colab": {
          "base_uri": "https://localhost:8080/"
        },
        "id": "vW3-lXOThHWh",
        "outputId": "5bd19a75-cc43-4427-8a33-1a228005fd7c"
      },
      "execution_count": 2,
      "outputs": [
        {
          "output_type": "stream",
          "name": "stdout",
          "text": [
            "Looking in indexes: https://pypi.org/simple, https://us-python.pkg.dev/colab-wheels/public/simple/\n",
            "Collecting sumy\n",
            "  Downloading sumy-0.11.0-py2.py3-none-any.whl (97 kB)\n",
            "\u001b[2K     \u001b[90m━━━━━━━━━━━━━━━━━━━━━━━━━━━━━━━━━━━━━━━━\u001b[0m \u001b[32m97.3/97.3 kB\u001b[0m \u001b[31m3.5 MB/s\u001b[0m eta \u001b[36m0:00:00\u001b[0m\n",
            "\u001b[?25hCollecting docopt<0.7,>=0.6.1 (from sumy)\n",
            "  Downloading docopt-0.6.2.tar.gz (25 kB)\n",
            "  Preparing metadata (setup.py) ... \u001b[?25l\u001b[?25hdone\n",
            "Collecting breadability>=0.1.20 (from sumy)\n",
            "  Downloading breadability-0.1.20.tar.gz (32 kB)\n",
            "  Preparing metadata (setup.py) ... \u001b[?25l\u001b[?25hdone\n",
            "Requirement already satisfied: requests>=2.7.0 in /usr/local/lib/python3.10/dist-packages (from sumy) (2.27.1)\n",
            "Collecting pycountry>=18.2.23 (from sumy)\n",
            "  Downloading pycountry-22.3.5.tar.gz (10.1 MB)\n",
            "\u001b[2K     \u001b[90m━━━━━━━━━━━━━━━━━━━━━━━━━━━━━━━━━━━━━━━━\u001b[0m \u001b[32m10.1/10.1 MB\u001b[0m \u001b[31m58.9 MB/s\u001b[0m eta \u001b[36m0:00:00\u001b[0m\n",
            "\u001b[?25h  Installing build dependencies ... \u001b[?25l\u001b[?25hdone\n",
            "  Getting requirements to build wheel ... \u001b[?25l\u001b[?25hdone\n",
            "  Preparing metadata (pyproject.toml) ... \u001b[?25l\u001b[?25hdone\n",
            "Requirement already satisfied: nltk>=3.0.2 in /usr/local/lib/python3.10/dist-packages (from sumy) (3.8.1)\n",
            "Requirement already satisfied: chardet in /usr/local/lib/python3.10/dist-packages (from breadability>=0.1.20->sumy) (4.0.0)\n",
            "Requirement already satisfied: lxml>=2.0 in /usr/local/lib/python3.10/dist-packages (from breadability>=0.1.20->sumy) (4.9.2)\n",
            "Requirement already satisfied: click in /usr/local/lib/python3.10/dist-packages (from nltk>=3.0.2->sumy) (8.1.3)\n",
            "Requirement already satisfied: joblib in /usr/local/lib/python3.10/dist-packages (from nltk>=3.0.2->sumy) (1.2.0)\n",
            "Requirement already satisfied: regex>=2021.8.3 in /usr/local/lib/python3.10/dist-packages (from nltk>=3.0.2->sumy) (2022.10.31)\n",
            "Requirement already satisfied: tqdm in /usr/local/lib/python3.10/dist-packages (from nltk>=3.0.2->sumy) (4.65.0)\n",
            "Requirement already satisfied: setuptools in /usr/local/lib/python3.10/dist-packages (from pycountry>=18.2.23->sumy) (67.7.2)\n",
            "Requirement already satisfied: urllib3<1.27,>=1.21.1 in /usr/local/lib/python3.10/dist-packages (from requests>=2.7.0->sumy) (1.26.15)\n",
            "Requirement already satisfied: certifi>=2017.4.17 in /usr/local/lib/python3.10/dist-packages (from requests>=2.7.0->sumy) (2022.12.7)\n",
            "Requirement already satisfied: charset-normalizer~=2.0.0 in /usr/local/lib/python3.10/dist-packages (from requests>=2.7.0->sumy) (2.0.12)\n",
            "Requirement already satisfied: idna<4,>=2.5 in /usr/local/lib/python3.10/dist-packages (from requests>=2.7.0->sumy) (3.4)\n",
            "Building wheels for collected packages: breadability, docopt, pycountry\n",
            "  Building wheel for breadability (setup.py) ... \u001b[?25l\u001b[?25hdone\n",
            "  Created wheel for breadability: filename=breadability-0.1.20-py2.py3-none-any.whl size=21696 sha256=f2f92c4ee6640e3ed1d96b707d8881ec2b63d9048fbce3fbeb391d7862e7290a\n",
            "  Stored in directory: /root/.cache/pip/wheels/64/22/90/b84fcc30e16598db20a0d41340616dbf9b1e82bbcc627b0b33\n",
            "  Building wheel for docopt (setup.py) ... \u001b[?25l\u001b[?25hdone\n",
            "  Created wheel for docopt: filename=docopt-0.6.2-py2.py3-none-any.whl size=13707 sha256=360bc52b5d52ba21fdc9a9467e0cee20e083bc26a2b3a54d55103b94f37b5406\n",
            "  Stored in directory: /root/.cache/pip/wheels/fc/ab/d4/5da2067ac95b36618c629a5f93f809425700506f72c9732fac\n",
            "  Building wheel for pycountry (pyproject.toml) ... \u001b[?25l\u001b[?25hdone\n",
            "  Created wheel for pycountry: filename=pycountry-22.3.5-py2.py3-none-any.whl size=10681832 sha256=8835d34970802c7ea9fe08810bd40bd99dc6b546a5beb4f732d7b42486bb922d\n",
            "  Stored in directory: /root/.cache/pip/wheels/03/57/cc/290c5252ec97a6d78d36479a3c5e5ecc76318afcb241ad9dbe\n",
            "Successfully built breadability docopt pycountry\n",
            "Installing collected packages: docopt, pycountry, breadability, sumy\n",
            "Successfully installed breadability-0.1.20 docopt-0.6.2 pycountry-22.3.5 sumy-0.11.0\n"
          ]
        }
      ]
    },
    {
      "cell_type": "code",
      "source": [
        "# Install sumy if not already installed\n",
        "\n",
        "# Set the URL of the Wikipedia page you want to summarize\n",
        "wiki_url = \"https://en.wikipedia.org/wiki/Travancore%E2%80%93Cochin\"\n"
      ],
      "metadata": {
        "id": "SQ9vYJeVg9D8"
      },
      "execution_count": 4,
      "outputs": []
    },
    {
      "cell_type": "code",
      "source": [
        "import nltk\n",
        "nltk.download('punkt')\n"
      ],
      "metadata": {
        "colab": {
          "base_uri": "https://localhost:8080/"
        },
        "id": "LjVeuWrxhFzj",
        "outputId": "d5d4bf2d-e8de-4080-f289-2662a7c6edd5"
      },
      "execution_count": 6,
      "outputs": [
        {
          "output_type": "stream",
          "name": "stderr",
          "text": [
            "[nltk_data] Downloading package punkt to /root/nltk_data...\n",
            "[nltk_data]   Unzipping tokenizers/punkt.zip.\n"
          ]
        },
        {
          "output_type": "execute_result",
          "data": {
            "text/plain": [
              "True"
            ]
          },
          "metadata": {},
          "execution_count": 6
        }
      ]
    },
    {
      "cell_type": "code",
      "source": [
        "# Define the number of sentences you want in the summary\n",
        "num_sentences = 15\n",
        "\n",
        "# Parse the HTML content of the Wikipedia page\n",
        "parser = HtmlParser.from_url(wiki_url, Tokenizer(\"english\"))\n",
        "document = parser.document\n",
        "\n",
        "# Initialize the LexRank summarizer\n",
        "summarizer = LexRankSummarizer()\n"
      ],
      "metadata": {
        "id": "KKe2iCPTg-yt"
      },
      "execution_count": 9,
      "outputs": []
    },
    {
      "cell_type": "code",
      "source": [
        "summary_sentences = summarizer(document, num_sentences)\n",
        "\n",
        "# Print the summary\n",
        "print(\"Summary:\")\n",
        "for sentence in summary_sentences:\n",
        "    print(sentence)"
      ],
      "metadata": {
        "colab": {
          "base_uri": "https://localhost:8080/"
        },
        "id": "0qPcADf9hi7P",
        "outputId": "49973e01-534f-4860-a6ef-d517ce0138bc"
      },
      "execution_count": 10,
      "outputs": [
        {
          "output_type": "stream",
          "name": "stdout",
          "text": [
            "Summary:\n",
            "State of India from 1949 to 1956\n",
            "United State of Travancore and Cochin (1949–1950)State of Travancore–Cochin (1950–1956)\n",
            "While Pattom A. Thanu Pillai was the Praja Socialist Party Chief minister in 1954, Travancore Tamil Nadu Congress launched a campaign for the merger of the Tamil-speaking regions of Southern Travancore with the neighbouring area of Madras State.\n",
            "Under State Reorganisation Act of 1956, the four southern taluks of Travancore, namely Thovalai, Agasteeswaram, Kalkulam and Vilavancode and a part of the Chencotta, Tenkasi Taluk was merged with Madras State.\n",
            "On 1 November 1956 Travancore–Cochin was joined with Malabar District of Madras State to form the new state of Kerala, with a governor, appointed by the President of India, as the head of the state instead of 'Rajapramukh'.\n",
            "Travancore-Cochin postal stamp Tamils lived in large numbers in the Thovalai, Agastheeswaram, Sengottai, Eraniel, Vilavancode, Kalkulam, Devikulam, Neyyattinkara, Thiruvananthapuram South and Thiruvananthapuram North taluks of erstwhile Travancore State.\n",
            "In protest against this idea, many Tamil leaders vacated the party.\n",
            "That party was continuously compelling for the merger of Tamil regions in Travancore with Tamil Nadu.\n",
            "In the working committee meeting of Tamilian congress at Eraviputhur on 30 June 1946, the name of the political party was changed to Travancore Tamil Nadu Congress (T.T.N.C).\n",
            "[7] After the independence of India, State Assembly Elections were announced in Travancore.\n",
            "Mr. A. Nesamony was elected as the legislative leader of the party.\n",
            "Based on this report, Devikulam - Peermedu and Neyyattinkara Taluks were merged with Kerala state.\n",
            "[11] On 1 November 1956 - four Taluks Thovalai, Agastheeswaram, Kalkulam, Vilavancode were recognised to form the New Kanyakumari District and merged with Tamil Nadu State.\n",
            "[12] The T.T.N.C had also requested to merge these Taluks with Madras State.\n",
            "[12] As a victory of the Colonisation project done by post-independence Travancore, these two Taluks and a larger portion of Cardamom Hills retained in the state of Kerala, after States Reorganisation Act, 1956.\n"
          ]
        }
      ]
    }
  ]
}